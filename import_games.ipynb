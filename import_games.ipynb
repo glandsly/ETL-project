{
 "cells": [
  {
   "cell_type": "code",
   "execution_count": 130,
   "metadata": {},
   "outputs": [],
   "source": [
    "import pandas as pd"
   ]
  },
  {
   "cell_type": "code",
   "execution_count": 131,
   "metadata": {},
   "outputs": [],
   "source": [
    "reviews = pd.read_csv('resources/steam_reviews.csv')"
   ]
  },
  {
   "cell_type": "code",
   "execution_count": 132,
   "metadata": {},
   "outputs": [
    {
     "output_type": "execute_result",
     "data": {
      "text/plain": "  date_posted  funny  helpful  hour_played  is_early_access_review  \\\n0  2019-02-10      2        4          578                   False   \n1  2019-02-10      0        0          184                   False   \n2  2019-02-07      0        0          892                   False   \n3  2018-06-14    126     1086          676                   False   \n4  2017-06-20     85     2139          612                   False   \n\n  recommendation                                             review  \\\n0    Recommended  &gt Played as German Reich&gt Declare war on B...   \n1    Recommended                                               yes.   \n2    Recommended  Very good game although a bit overpriced in my...   \n3    Recommended  Out of all the reviews I wrote This one is pro...   \n4    Recommended  Disclaimer I survivor main. I play games for f...   \n\n                                         title  \n0  Expansion - Hearts of Iron IV: Man the Guns  \n1  Expansion - Hearts of Iron IV: Man the Guns  \n2  Expansion - Hearts of Iron IV: Man the Guns  \n3                             Dead by Daylight  \n4                             Dead by Daylight  ",
      "text/html": "<div>\n<style scoped>\n    .dataframe tbody tr th:only-of-type {\n        vertical-align: middle;\n    }\n\n    .dataframe tbody tr th {\n        vertical-align: top;\n    }\n\n    .dataframe thead th {\n        text-align: right;\n    }\n</style>\n<table border=\"1\" class=\"dataframe\">\n  <thead>\n    <tr style=\"text-align: right;\">\n      <th></th>\n      <th>date_posted</th>\n      <th>funny</th>\n      <th>helpful</th>\n      <th>hour_played</th>\n      <th>is_early_access_review</th>\n      <th>recommendation</th>\n      <th>review</th>\n      <th>title</th>\n    </tr>\n  </thead>\n  <tbody>\n    <tr>\n      <td>0</td>\n      <td>2019-02-10</td>\n      <td>2</td>\n      <td>4</td>\n      <td>578</td>\n      <td>False</td>\n      <td>Recommended</td>\n      <td>&amp;gt Played as German Reich&amp;gt Declare war on B...</td>\n      <td>Expansion - Hearts of Iron IV: Man the Guns</td>\n    </tr>\n    <tr>\n      <td>1</td>\n      <td>2019-02-10</td>\n      <td>0</td>\n      <td>0</td>\n      <td>184</td>\n      <td>False</td>\n      <td>Recommended</td>\n      <td>yes.</td>\n      <td>Expansion - Hearts of Iron IV: Man the Guns</td>\n    </tr>\n    <tr>\n      <td>2</td>\n      <td>2019-02-07</td>\n      <td>0</td>\n      <td>0</td>\n      <td>892</td>\n      <td>False</td>\n      <td>Recommended</td>\n      <td>Very good game although a bit overpriced in my...</td>\n      <td>Expansion - Hearts of Iron IV: Man the Guns</td>\n    </tr>\n    <tr>\n      <td>3</td>\n      <td>2018-06-14</td>\n      <td>126</td>\n      <td>1086</td>\n      <td>676</td>\n      <td>False</td>\n      <td>Recommended</td>\n      <td>Out of all the reviews I wrote This one is pro...</td>\n      <td>Dead by Daylight</td>\n    </tr>\n    <tr>\n      <td>4</td>\n      <td>2017-06-20</td>\n      <td>85</td>\n      <td>2139</td>\n      <td>612</td>\n      <td>False</td>\n      <td>Recommended</td>\n      <td>Disclaimer I survivor main. I play games for f...</td>\n      <td>Dead by Daylight</td>\n    </tr>\n  </tbody>\n</table>\n</div>"
     },
     "metadata": {},
     "execution_count": 132
    }
   ],
   "source": [
    "reviews.head()"
   ]
  },
  {
   "cell_type": "code",
   "execution_count": 133,
   "metadata": {},
   "outputs": [],
   "source": [
    "titles = reviews[\"title\"].unique()\n",
    "titles.sort()"
   ]
  },
  {
   "cell_type": "code",
   "execution_count": 140,
   "metadata": {},
   "outputs": [],
   "source": [
    "titles_df = pd.DataFrame(titles)\n",
    "titles_df.drop(10, inplace = True)\n",
    "titles_df.reset_index(inplace = True, drop=True)\n",
    "titles_df.reset_index(inplace = True)"
   ]
  },
  {
   "cell_type": "code",
   "execution_count": 142,
   "metadata": {},
   "outputs": [],
   "source": [
    "titles_df.columns = [\"id\",\"game_title\"]\n",
    "titles_df.set_index(\"id\", inplace = True)"
   ]
  },
  {
   "cell_type": "code",
   "execution_count": 143,
   "metadata": {},
   "outputs": [],
   "source": [
    "titles_df.replace(\"ACE COMBATâ„¢ 7: SKIES UNKNOWN\",\"ACE COMBAT 7: SKIES UNKNOWN\")\n",
    "titles_df.replace(\"Rocket LeagueÂ®\", \"Rocket League\")\n",
    "titles_df.replace(\"Sid Meierâ€™s Civilization VI\", \"Sid Meier's Civilization VI\")\n",
    "titles_df.replace(\"Tom Clancy's Rainbow Six Siege\", \"Tom Clancy's Rainbow Six Siege\")\n",
    "dictionary = {\"®\":'', \"™\":''}\n",
    "titles_df.replace(dictionary, regex=True, inplace=True)"
   ]
  },
  {
   "cell_type": "code",
   "execution_count": 145,
   "metadata": {},
   "outputs": [],
   "source": [
    "titles_df.to_csv('resources/titles.csv')"
   ]
  },
  {
   "cell_type": "code",
   "execution_count": null,
   "metadata": {},
   "outputs": [],
   "source": []
  }
 ],
 "metadata": {
  "language_info": {
   "codemirror_mode": {
    "name": "ipython",
    "version": 3
   },
   "file_extension": ".py",
   "mimetype": "text/x-python",
   "name": "python",
   "nbconvert_exporter": "python",
   "pygments_lexer": "ipython3",
   "version": "3.7.4-final"
  },
  "orig_nbformat": 2,
  "kernelspec": {
   "name": "python37464bitbasecondae23b6954b40a4ff4aa0c89b9b80c30af",
   "display_name": "Python 3.7.4 64-bit ('base': conda)"
  }
 },
 "nbformat": 4,
 "nbformat_minor": 2
}