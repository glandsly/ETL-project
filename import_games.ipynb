{
 "cells": [
  {
   "cell_type": "code",
   "execution_count": 130,
   "metadata": {},
   "outputs": [],
   "source": [
    "import pandas as pd"
   ]
  },
  {
   "cell_type": "code",
   "execution_count": 131,
   "metadata": {},
   "outputs": [],
   "source": [
    "reviews = pd.read_csv('resources/steam_reviews.csv')"
   ]
  },
  {
   "cell_type": "code",
   "execution_count": 132,
   "metadata": {},
   "outputs": [
    {
     "output_type": "execute_result",
     "data": {
      "text/plain": "  date_posted  funny  helpful  hour_played  is_early_access_review  \\\n0  2019-02-10      2        4          578                   False   \n1  2019-02-10      0        0          184                   False   \n2  2019-02-07      0        0          892                   False   \n3  2018-06-14    126     1086          676                   False   \n4  2017-06-20     85     2139          612                   False   \n\n  recommendation                                             review  \\\n0    Recommended  &gt Played as German Reich&gt Declare war on B...   \n1    Recommended                                               yes.   \n2    Recommended  Very good game although a bit overpriced in my...   \n3    Recommended  Out of all the reviews I wrote This one is pro...   \n4    Recommended  Disclaimer I survivor main. I play games for f...   \n\n                                         title  \n0  Expansion - Hearts of Iron IV: Man the Guns  \n1  Expansion - Hearts of Iron IV: Man the Guns  \n2  Expansion - Hearts of Iron IV: Man the Guns  \n3                             Dead by Daylight  \n4                             Dead by Daylight  ",
      "text/html": "<div>\n<style scoped>\n    .dataframe tbody tr th:only-of-type {\n        vertical-align: middle;\n    }\n\n    .dataframe tbody tr th {\n        vertical-align: top;\n    }\n\n    .dataframe thead th {\n        text-align: right;\n    }\n</style>\n<table border=\"1\" class=\"dataframe\">\n  <thead>\n    <tr style=\"text-align: right;\">\n      <th></th>\n      <th>date_posted</th>\n      <th>funny</th>\n      <th>helpful</th>\n      <th>hour_played</th>\n      <th>is_early_access_review</th>\n      <th>recommendation</th>\n      <th>review</th>\n      <th>title</th>\n    </tr>\n  </thead>\n  <tbody>\n    <tr>\n      <td>0</td>\n      <td>2019-02-10</td>\n      <td>2</td>\n      <td>4</td>\n      <td>578</td>\n      <td>False</td>\n      <td>Recommended</td>\n      <td>&amp;gt Played as German Reich&amp;gt Declare war on B...</td>\n      <td>Expansion - Hearts of Iron IV: Man the Guns</td>\n    </tr>\n    <tr>\n      <td>1</td>\n      <td>2019-02-10</td>\n      <td>0</td>\n      <td>0</td>\n      <td>184</td>\n      <td>False</td>\n      <td>Recommended</td>\n      <td>yes.</td>\n      <td>Expansion - Hearts of Iron IV: Man the Guns</td>\n    </tr>\n    <tr>\n      <td>2</td>\n      <td>2019-02-07</td>\n      <td>0</td>\n      <td>0</td>\n      <td>892</td>\n      <td>False</td>\n      <td>Recommended</td>\n      <td>Very good game although a bit overpriced in my...</td>\n      <td>Expansion - Hearts of Iron IV: Man the Guns</td>\n    </tr>\n    <tr>\n      <td>3</td>\n      <td>2018-06-14</td>\n      <td>126</td>\n      <td>1086</td>\n      <td>676</td>\n      <td>False</td>\n      <td>Recommended</td>\n      <td>Out of all the reviews I wrote This one is pro...</td>\n      <td>Dead by Daylight</td>\n    </tr>\n    <tr>\n      <td>4</td>\n      <td>2017-06-20</td>\n      <td>85</td>\n      <td>2139</td>\n      <td>612</td>\n      <td>False</td>\n      <td>Recommended</td>\n      <td>Disclaimer I survivor main. I play games for f...</td>\n      <td>Dead by Daylight</td>\n    </tr>\n  </tbody>\n</table>\n</div>"
     },
     "metadata": {},
     "execution_count": 132
    }
   ],
   "source": [
    "reviews.head()"
   ]
  },
  {
   "cell_type": "code",
   "execution_count": 133,
   "metadata": {},
   "outputs": [],
   "source": [
    "titles = reviews[\"title\"].unique()\n",
    "titles.sort()"
   ]
  },
  {
   "cell_type": "code",
   "execution_count": 151,
   "metadata": {},
   "outputs": [],
   "source": [
    "titles_df = pd.DataFrame(titles)\n",
    "titles_df.drop(10, inplace = True)\n",
    "titles_df.drop(40, inplace = True)\n",
    "titles_df.reset_index(inplace = True, drop=True)\n",
    "titles_df.reset_index(inplace = True)"
   ]
  },
  {
   "cell_type": "code",
   "execution_count": 153,
   "metadata": {},
   "outputs": [],
   "source": [
    "titles_df.columns = [\"id\",\"game_title\"]\n",
    "titles_df.set_index(\"id\", inplace = True)"
   ]
  },
  {
   "cell_type": "code",
   "execution_count": 154,
   "metadata": {},
   "outputs": [
    {
     "output_type": "execute_result",
     "data": {
      "text/plain": "                                       game_title\nid                                               \n0                     ACE COMBAT 7: SKIES UNKNOWN\n1                           ARK: Survival Evolved\n2                                       ASTRONEER\n3                    Battlefleet Gothic: Armada 2\n4                                      Beat Saber\n5                                     Cold Waters\n6                                Dead by Daylight\n7   Divinity: Original Sin 2 - Definitive Edition\n8                           Don't Starve Together\n9                          Euro Truck Simulator 2\n10                                       Factorio\n11                           Farming Simulator 19\n12                          Football Manager 2019\n13                                     Foundation\n14                                    GOD EATER 3\n15                                    Garry's Mod\n16                             Grand Theft Auto V\n17                               Human: Fall Flat\n18                          Insurgency: Sandstorm\n19                                         Kenshi\n20                                  Left 4 Dead 2\n21                          MONSTER HUNTER: WORLD\n22                                    Moonlighter\n23                              My Time At Portia\n24                                       NBA 2K19\n25                                  Overcooked! 2\n26                  PLAYERUNKNOWN'S BATTLEGROUNDS\n27                          Pathfinder: Kingmaker\n28               RESIDENT EVIL 2 / BIOHAZARD RE:2\n29                                       RimWorld\n30                                  Rocket League\n31                                           Rust\n32   Sid Meier's Civilization VI: Gathering Storm\n33                    Sid Meier’s Civilization VI\n34     Sid Meier’s Civilization VI: Rise and Fall\n35                                 Slay the Spire\n36                                 Stardew Valley\n37                                     Subnautica\n38                         Subnautica: Below Zero\n39                                     Tannenberg\n40                                       Terraria\n41    The Elder Scrolls V: Skyrim Special Edition\n42                 Tom Clancy's Rainbow Six Siege\n43                               Wallpaper Engine\n44                                      Wargroove\n45                   Warhammer 40,000: Mechanicus",
      "text/html": "<div>\n<style scoped>\n    .dataframe tbody tr th:only-of-type {\n        vertical-align: middle;\n    }\n\n    .dataframe tbody tr th {\n        vertical-align: top;\n    }\n\n    .dataframe thead th {\n        text-align: right;\n    }\n</style>\n<table border=\"1\" class=\"dataframe\">\n  <thead>\n    <tr style=\"text-align: right;\">\n      <th></th>\n      <th>game_title</th>\n    </tr>\n    <tr>\n      <th>id</th>\n      <th></th>\n    </tr>\n  </thead>\n  <tbody>\n    <tr>\n      <td>0</td>\n      <td>ACE COMBAT 7: SKIES UNKNOWN</td>\n    </tr>\n    <tr>\n      <td>1</td>\n      <td>ARK: Survival Evolved</td>\n    </tr>\n    <tr>\n      <td>2</td>\n      <td>ASTRONEER</td>\n    </tr>\n    <tr>\n      <td>3</td>\n      <td>Battlefleet Gothic: Armada 2</td>\n    </tr>\n    <tr>\n      <td>4</td>\n      <td>Beat Saber</td>\n    </tr>\n    <tr>\n      <td>5</td>\n      <td>Cold Waters</td>\n    </tr>\n    <tr>\n      <td>6</td>\n      <td>Dead by Daylight</td>\n    </tr>\n    <tr>\n      <td>7</td>\n      <td>Divinity: Original Sin 2 - Definitive Edition</td>\n    </tr>\n    <tr>\n      <td>8</td>\n      <td>Don't Starve Together</td>\n    </tr>\n    <tr>\n      <td>9</td>\n      <td>Euro Truck Simulator 2</td>\n    </tr>\n    <tr>\n      <td>10</td>\n      <td>Factorio</td>\n    </tr>\n    <tr>\n      <td>11</td>\n      <td>Farming Simulator 19</td>\n    </tr>\n    <tr>\n      <td>12</td>\n      <td>Football Manager 2019</td>\n    </tr>\n    <tr>\n      <td>13</td>\n      <td>Foundation</td>\n    </tr>\n    <tr>\n      <td>14</td>\n      <td>GOD EATER 3</td>\n    </tr>\n    <tr>\n      <td>15</td>\n      <td>Garry's Mod</td>\n    </tr>\n    <tr>\n      <td>16</td>\n      <td>Grand Theft Auto V</td>\n    </tr>\n    <tr>\n      <td>17</td>\n      <td>Human: Fall Flat</td>\n    </tr>\n    <tr>\n      <td>18</td>\n      <td>Insurgency: Sandstorm</td>\n    </tr>\n    <tr>\n      <td>19</td>\n      <td>Kenshi</td>\n    </tr>\n    <tr>\n      <td>20</td>\n      <td>Left 4 Dead 2</td>\n    </tr>\n    <tr>\n      <td>21</td>\n      <td>MONSTER HUNTER: WORLD</td>\n    </tr>\n    <tr>\n      <td>22</td>\n      <td>Moonlighter</td>\n    </tr>\n    <tr>\n      <td>23</td>\n      <td>My Time At Portia</td>\n    </tr>\n    <tr>\n      <td>24</td>\n      <td>NBA 2K19</td>\n    </tr>\n    <tr>\n      <td>25</td>\n      <td>Overcooked! 2</td>\n    </tr>\n    <tr>\n      <td>26</td>\n      <td>PLAYERUNKNOWN'S BATTLEGROUNDS</td>\n    </tr>\n    <tr>\n      <td>27</td>\n      <td>Pathfinder: Kingmaker</td>\n    </tr>\n    <tr>\n      <td>28</td>\n      <td>RESIDENT EVIL 2 / BIOHAZARD RE:2</td>\n    </tr>\n    <tr>\n      <td>29</td>\n      <td>RimWorld</td>\n    </tr>\n    <tr>\n      <td>30</td>\n      <td>Rocket League</td>\n    </tr>\n    <tr>\n      <td>31</td>\n      <td>Rust</td>\n    </tr>\n    <tr>\n      <td>32</td>\n      <td>Sid Meier's Civilization VI: Gathering Storm</td>\n    </tr>\n    <tr>\n      <td>33</td>\n      <td>Sid Meier’s Civilization VI</td>\n    </tr>\n    <tr>\n      <td>34</td>\n      <td>Sid Meier’s Civilization VI: Rise and Fall</td>\n    </tr>\n    <tr>\n      <td>35</td>\n      <td>Slay the Spire</td>\n    </tr>\n    <tr>\n      <td>36</td>\n      <td>Stardew Valley</td>\n    </tr>\n    <tr>\n      <td>37</td>\n      <td>Subnautica</td>\n    </tr>\n    <tr>\n      <td>38</td>\n      <td>Subnautica: Below Zero</td>\n    </tr>\n    <tr>\n      <td>39</td>\n      <td>Tannenberg</td>\n    </tr>\n    <tr>\n      <td>40</td>\n      <td>Terraria</td>\n    </tr>\n    <tr>\n      <td>41</td>\n      <td>The Elder Scrolls V: Skyrim Special Edition</td>\n    </tr>\n    <tr>\n      <td>42</td>\n      <td>Tom Clancy's Rainbow Six Siege</td>\n    </tr>\n    <tr>\n      <td>43</td>\n      <td>Wallpaper Engine</td>\n    </tr>\n    <tr>\n      <td>44</td>\n      <td>Wargroove</td>\n    </tr>\n    <tr>\n      <td>45</td>\n      <td>Warhammer 40,000: Mechanicus</td>\n    </tr>\n  </tbody>\n</table>\n</div>"
     },
     "metadata": {},
     "execution_count": 154
    }
   ],
   "source": [
    "titles_df.replace(\"ACE COMBATâ„¢ 7: SKIES UNKNOWN\",\"ACE COMBAT 7: SKIES UNKNOWN\")\n",
    "titles_df.replace(\"Rocket LeagueÂ®\", \"Rocket League\")\n",
    "titles_df.replace(\"Sid Meierâ€™s Civilization VI\", \"Sid Meier's Civilization VI\")\n",
    "titles_df.replace(\"Tom Clancy's Rainbow Six Siege\", \"Tom Clancy's Rainbow Six Siege\")\n",
    "dictionary = {\"®\":'', \"™\":''}\n",
    "titles_df.replace(dictionary, regex=True, inplace=True)\n",
    "titles_df"
   ]
  },
  {
   "cell_type": "code",
   "execution_count": 155,
   "metadata": {},
   "outputs": [],
   "source": [
    "titles_df.to_csv('resources/titles.csv')"
   ]
  },
  {
   "cell_type": "code",
   "execution_count": null,
   "metadata": {},
   "outputs": [],
   "source": []
  }
 ],
 "metadata": {
  "language_info": {
   "codemirror_mode": {
    "name": "ipython",
    "version": 3
   },
   "file_extension": ".py",
   "mimetype": "text/x-python",
   "name": "python",
   "nbconvert_exporter": "python",
   "pygments_lexer": "ipython3",
   "version": "3.7.4-final"
  },
  "orig_nbformat": 2,
  "kernelspec": {
   "name": "python37464bitbasecondae23b6954b40a4ff4aa0c89b9b80c30af",
   "display_name": "Python 3.7.4 64-bit ('base': conda)"
  }
 },
 "nbformat": 4,
 "nbformat_minor": 2
}