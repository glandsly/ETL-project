{
 "cells": [
  {
   "cell_type": "code",
   "execution_count": 2,
   "metadata": {},
   "outputs": [],
   "source": [
    "import pandas as pd\n",
    "from sqlalchemy import create_engine"
   ]
  },
  {
   "cell_type": "code",
   "execution_count": 100,
   "metadata": {},
   "outputs": [],
   "source": [
    "titles_trimmed = pd.read_csv(\"Resources/titles_trimmed.csv\")\n",
    "user_table = pd.read_csv(\"Resources/user_table.csv\", index_col='Unnamed: 0')\n",
    "purchase_table = pd.read_csv(\"Resources/Purchase_Table.csv\")\n",
    "review_table = pd.read_csv(\"Resources/review_table.csv\")"
   ]
  },
  {
   "cell_type": "code",
   "execution_count": 94,
   "metadata": {},
   "outputs": [],
   "source": [
    "purchase_table = purchase_table.rename(columns={\"Unnamed: 0\":\"id\"})\n",
    "game_table = titles_trimmed.rename(columns={\"Unnamed: 0\":\"id\"})\n"
   ]
  },
  {
   "cell_type": "code",
   "execution_count": 95,
   "metadata": {},
   "outputs": [],
   "source": [
    "rds_connection_string = \"postgres:utbootcamp@localhost:5432/steam_db\"\n",
    "engine = create_engine(f'postgresql://{rds_connection_string}')"
   ]
  },
  {
   "cell_type": "code",
   "execution_count": 96,
   "metadata": {},
   "outputs": [
    {
     "output_type": "execute_result",
     "data": {
      "text/plain": "['game_table', 'review_table', 'user_table', 'purchase_table']"
     },
     "metadata": {},
     "execution_count": 96
    }
   ],
   "source": [
    "engine.table_names()"
   ]
  },
  {
   "cell_type": "code",
   "execution_count": 103,
   "metadata": {},
   "outputs": [],
   "source": [
    "# game_table.to_sql(name='game_table', con=engine, if_exists='append', index=False)\n",
    "# user_table.to_sql(name='user_table', con=engine, if_exists='append', index=False)\n",
    "# purchase_table.to_sql(name='purchase_table', con=engine, if_exists='append', index=False)\n",
    "review_table.to_sql(name='review_table', con=engine, if_exists='append', index=False)\n"
   ]
  },
  {
   "cell_type": "code",
   "execution_count": 102,
   "metadata": {},
   "outputs": [
    {
     "output_type": "execute_result",
     "data": {
      "text/plain": "            id  game_id                    game_title  \\\n0            0        6              Dead by Daylight   \n1            1        6              Dead by Daylight   \n2            2        6              Dead by Daylight   \n3            3        6              Dead by Daylight   \n4            4        6              Dead by Daylight   \n...        ...      ...                           ...   \n365051  366425       45  Warhammer 40,000: Mechanicus   \n365052  366426       45  Warhammer 40,000: Mechanicus   \n365053  366427       45  Warhammer 40,000: Mechanicus   \n365054  366428       45  Warhammer 40,000: Mechanicus   \n365055  366429       45  Warhammer 40,000: Mechanicus   \n\n                                                   review recommendation  \\\n0       Out of all the reviews I wrote This one is pro...    Recommended   \n1       Disclaimer I survivor main. I play games for f...    Recommended   \n2       ENGLISH After playing for more than two years ...    Recommended   \n3       Out of all the reviews I wrote This one is pro...    Recommended   \n4       I have never been told to kill myself more tha...    Recommended   \n...                                                   ...            ...   \n365051  YOUR FLESH WILL ROT AND DECAY.STEEL IS IMMORTA...    Recommended   \n365052  Domini and Dominae I believe what we are deali...    Recommended   \n365053  First off if you like X Com style of games you...    Recommended   \n365054  As a disclaimer I'm an AdMech player on the ta...    Recommended   \n365055  Don't listen to people who claim it's the game...    Recommended   \n\n        hour_played date_posted  \n0               676  2018-06-14  \n1               612  2017-06-20  \n2              2694  2016-12-12  \n3                48  2017-09-17  \n4                71  2018-12-24  \n...             ...         ...  \n365051           10  2018-11-17  \n365052           38  2018-11-17  \n365053           36  2018-11-20  \n365054           12  2018-11-18  \n365055           20  2019-01-21  \n\n[365056 rows x 7 columns]",
      "text/html": "<div>\n<style scoped>\n    .dataframe tbody tr th:only-of-type {\n        vertical-align: middle;\n    }\n\n    .dataframe tbody tr th {\n        vertical-align: top;\n    }\n\n    .dataframe thead th {\n        text-align: right;\n    }\n</style>\n<table border=\"1\" class=\"dataframe\">\n  <thead>\n    <tr style=\"text-align: right;\">\n      <th></th>\n      <th>id</th>\n      <th>game_id</th>\n      <th>game_title</th>\n      <th>review</th>\n      <th>recommendation</th>\n      <th>hour_played</th>\n      <th>date_posted</th>\n    </tr>\n  </thead>\n  <tbody>\n    <tr>\n      <td>0</td>\n      <td>0</td>\n      <td>6</td>\n      <td>Dead by Daylight</td>\n      <td>Out of all the reviews I wrote This one is pro...</td>\n      <td>Recommended</td>\n      <td>676</td>\n      <td>2018-06-14</td>\n    </tr>\n    <tr>\n      <td>1</td>\n      <td>1</td>\n      <td>6</td>\n      <td>Dead by Daylight</td>\n      <td>Disclaimer I survivor main. I play games for f...</td>\n      <td>Recommended</td>\n      <td>612</td>\n      <td>2017-06-20</td>\n    </tr>\n    <tr>\n      <td>2</td>\n      <td>2</td>\n      <td>6</td>\n      <td>Dead by Daylight</td>\n      <td>ENGLISH After playing for more than two years ...</td>\n      <td>Recommended</td>\n      <td>2694</td>\n      <td>2016-12-12</td>\n    </tr>\n    <tr>\n      <td>3</td>\n      <td>3</td>\n      <td>6</td>\n      <td>Dead by Daylight</td>\n      <td>Out of all the reviews I wrote This one is pro...</td>\n      <td>Recommended</td>\n      <td>48</td>\n      <td>2017-09-17</td>\n    </tr>\n    <tr>\n      <td>4</td>\n      <td>4</td>\n      <td>6</td>\n      <td>Dead by Daylight</td>\n      <td>I have never been told to kill myself more tha...</td>\n      <td>Recommended</td>\n      <td>71</td>\n      <td>2018-12-24</td>\n    </tr>\n    <tr>\n      <td>...</td>\n      <td>...</td>\n      <td>...</td>\n      <td>...</td>\n      <td>...</td>\n      <td>...</td>\n      <td>...</td>\n      <td>...</td>\n    </tr>\n    <tr>\n      <td>365051</td>\n      <td>366425</td>\n      <td>45</td>\n      <td>Warhammer 40,000: Mechanicus</td>\n      <td>YOUR FLESH WILL ROT AND DECAY.STEEL IS IMMORTA...</td>\n      <td>Recommended</td>\n      <td>10</td>\n      <td>2018-11-17</td>\n    </tr>\n    <tr>\n      <td>365052</td>\n      <td>366426</td>\n      <td>45</td>\n      <td>Warhammer 40,000: Mechanicus</td>\n      <td>Domini and Dominae I believe what we are deali...</td>\n      <td>Recommended</td>\n      <td>38</td>\n      <td>2018-11-17</td>\n    </tr>\n    <tr>\n      <td>365053</td>\n      <td>366427</td>\n      <td>45</td>\n      <td>Warhammer 40,000: Mechanicus</td>\n      <td>First off if you like X Com style of games you...</td>\n      <td>Recommended</td>\n      <td>36</td>\n      <td>2018-11-20</td>\n    </tr>\n    <tr>\n      <td>365054</td>\n      <td>366428</td>\n      <td>45</td>\n      <td>Warhammer 40,000: Mechanicus</td>\n      <td>As a disclaimer I'm an AdMech player on the ta...</td>\n      <td>Recommended</td>\n      <td>12</td>\n      <td>2018-11-18</td>\n    </tr>\n    <tr>\n      <td>365055</td>\n      <td>366429</td>\n      <td>45</td>\n      <td>Warhammer 40,000: Mechanicus</td>\n      <td>Don't listen to people who claim it's the game...</td>\n      <td>Recommended</td>\n      <td>20</td>\n      <td>2019-01-21</td>\n    </tr>\n  </tbody>\n</table>\n<p>365056 rows × 7 columns</p>\n</div>"
     },
     "metadata": {},
     "execution_count": 102
    }
   ],
   "source": [
    "review_table"
   ]
  },
  {
   "cell_type": "code",
   "execution_count": null,
   "metadata": {},
   "outputs": [],
   "source": []
  }
 ],
 "metadata": {
  "language_info": {
   "codemirror_mode": {
    "name": "ipython",
    "version": 3
   },
   "file_extension": ".py",
   "mimetype": "text/x-python",
   "name": "python",
   "nbconvert_exporter": "python",
   "pygments_lexer": "ipython3",
   "version": "3.7.4-final"
  },
  "orig_nbformat": 2,
  "kernelspec": {
   "name": "python37464bitbasecondae23b6954b40a4ff4aa0c89b9b80c30af",
   "display_name": "Python 3.7.4 64-bit ('base': conda)"
  }
 },
 "nbformat": 4,
 "nbformat_minor": 2
}