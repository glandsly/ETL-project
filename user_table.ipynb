{
 "cells": [
  {
   "cell_type": "code",
   "execution_count": 1,
   "metadata": {},
   "outputs": [],
   "source": [
    "import pandas as pd"
   ]
  },
  {
   "cell_type": "code",
   "execution_count": 18,
   "metadata": {},
   "outputs": [],
   "source": [
    "user_table = pd.read_csv(\"Resources/steam-200k.csv\", header=None)\n",
    "titles_df = pd.read_csv(\"Resources/titles.csv\")"
   ]
  },
  {
   "cell_type": "code",
   "execution_count": 19,
   "metadata": {},
   "outputs": [],
   "source": [
    "user_table.columns = [\"id\",\"game_title\",\"purchase_play\",\"time\",\"delete\"]"
   ]
  },
  {
   "cell_type": "code",
   "execution_count": 20,
   "metadata": {},
   "outputs": [
    {
     "output_type": "execute_result",
     "data": {
      "text/plain": "           id_x     game_title purchase_play  time  delete  id_y\n0     151603712  Left 4 Dead 2      purchase   1.0       0    21\n1     151603712  Left 4 Dead 2          play   8.9       0    21\n2      59945701  Left 4 Dead 2      purchase   1.0       0    21\n3      53875128  Left 4 Dead 2      purchase   1.0       0    21\n4      53875128  Left 4 Dead 2          play  71.0       0    21\n...         ...            ...           ...   ...     ...   ...\n5779   17530772     Subnautica      purchase   1.0       0    38\n5780   17530772     Subnautica          play   2.0       0    38\n5781  113546110     Subnautica      purchase   1.0       0    38\n5782  166669789     Subnautica      purchase   1.0       0    38\n5783  166669789     Subnautica          play   2.0       0    38\n\n[5784 rows x 6 columns]",
      "text/html": "<div>\n<style scoped>\n    .dataframe tbody tr th:only-of-type {\n        vertical-align: middle;\n    }\n\n    .dataframe tbody tr th {\n        vertical-align: top;\n    }\n\n    .dataframe thead th {\n        text-align: right;\n    }\n</style>\n<table border=\"1\" class=\"dataframe\">\n  <thead>\n    <tr style=\"text-align: right;\">\n      <th></th>\n      <th>id_x</th>\n      <th>game_title</th>\n      <th>purchase_play</th>\n      <th>time</th>\n      <th>delete</th>\n      <th>id_y</th>\n    </tr>\n  </thead>\n  <tbody>\n    <tr>\n      <td>0</td>\n      <td>151603712</td>\n      <td>Left 4 Dead 2</td>\n      <td>purchase</td>\n      <td>1.0</td>\n      <td>0</td>\n      <td>21</td>\n    </tr>\n    <tr>\n      <td>1</td>\n      <td>151603712</td>\n      <td>Left 4 Dead 2</td>\n      <td>play</td>\n      <td>8.9</td>\n      <td>0</td>\n      <td>21</td>\n    </tr>\n    <tr>\n      <td>2</td>\n      <td>59945701</td>\n      <td>Left 4 Dead 2</td>\n      <td>purchase</td>\n      <td>1.0</td>\n      <td>0</td>\n      <td>21</td>\n    </tr>\n    <tr>\n      <td>3</td>\n      <td>53875128</td>\n      <td>Left 4 Dead 2</td>\n      <td>purchase</td>\n      <td>1.0</td>\n      <td>0</td>\n      <td>21</td>\n    </tr>\n    <tr>\n      <td>4</td>\n      <td>53875128</td>\n      <td>Left 4 Dead 2</td>\n      <td>play</td>\n      <td>71.0</td>\n      <td>0</td>\n      <td>21</td>\n    </tr>\n    <tr>\n      <td>...</td>\n      <td>...</td>\n      <td>...</td>\n      <td>...</td>\n      <td>...</td>\n      <td>...</td>\n      <td>...</td>\n    </tr>\n    <tr>\n      <td>5779</td>\n      <td>17530772</td>\n      <td>Subnautica</td>\n      <td>purchase</td>\n      <td>1.0</td>\n      <td>0</td>\n      <td>38</td>\n    </tr>\n    <tr>\n      <td>5780</td>\n      <td>17530772</td>\n      <td>Subnautica</td>\n      <td>play</td>\n      <td>2.0</td>\n      <td>0</td>\n      <td>38</td>\n    </tr>\n    <tr>\n      <td>5781</td>\n      <td>113546110</td>\n      <td>Subnautica</td>\n      <td>purchase</td>\n      <td>1.0</td>\n      <td>0</td>\n      <td>38</td>\n    </tr>\n    <tr>\n      <td>5782</td>\n      <td>166669789</td>\n      <td>Subnautica</td>\n      <td>purchase</td>\n      <td>1.0</td>\n      <td>0</td>\n      <td>38</td>\n    </tr>\n    <tr>\n      <td>5783</td>\n      <td>166669789</td>\n      <td>Subnautica</td>\n      <td>play</td>\n      <td>2.0</td>\n      <td>0</td>\n      <td>38</td>\n    </tr>\n  </tbody>\n</table>\n<p>5784 rows × 6 columns</p>\n</div>"
     },
     "metadata": {},
     "execution_count": 20
    }
   ],
   "source": [
    "merged_df = user_table.merge(titles_df, on = \"game_title\")\n"
   ]
  },
  {
   "cell_type": "code",
   "execution_count": 41,
   "metadata": {},
   "outputs": [],
   "source": [
    "user_table = pd.DataFrame(merged_df[\"id_x\"].unique())\n",
    "user_table.columns = [\"id\"]"
   ]
  },
  {
   "cell_type": "code",
   "execution_count": 43,
   "metadata": {},
   "outputs": [],
   "source": [
    "user_table.to_csv(\"Resources/user_table.csv\")"
   ]
  },
  {
   "cell_type": "code",
   "execution_count": null,
   "metadata": {},
   "outputs": [],
   "source": []
  }
 ],
 "metadata": {
  "language_info": {
   "codemirror_mode": {
    "name": "ipython",
    "version": 3
   },
   "file_extension": ".py",
   "mimetype": "text/x-python",
   "name": "python",
   "nbconvert_exporter": "python",
   "pygments_lexer": "ipython3",
   "version": "3.7.4-final"
  },
  "orig_nbformat": 2,
  "kernelspec": {
   "name": "python37464bitbasecondae23b6954b40a4ff4aa0c89b9b80c30af",
   "display_name": "Python 3.7.4 64-bit ('base': conda)"
  }
 },
 "nbformat": 4,
 "nbformat_minor": 2
}